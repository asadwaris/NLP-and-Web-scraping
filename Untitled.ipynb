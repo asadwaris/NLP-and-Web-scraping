{
 "cells": [
  {
   "cell_type": "markdown",
   "id": "f529a09e",
   "metadata": {},
   "source": [
    "### Hello World"
   ]
  },
  {
   "cell_type": "code",
   "execution_count": 1,
   "id": "7152b589",
   "metadata": {},
   "outputs": [
    {
     "name": "stdout",
     "output_type": "stream",
     "text": [
      "Hello World\n"
     ]
    }
   ],
   "source": [
    "print('Hello World')"
   ]
  },
  {
   "cell_type": "markdown",
   "id": "9852373d",
   "metadata": {},
   "source": [
    "## Here is the question that lead us to do this analysis."
   ]
  },
  {
   "cell_type": "code",
   "execution_count": 3,
   "id": "11c8e6b3",
   "metadata": {},
   "outputs": [],
   "source": [
    "# What makes Ali's comedy routine stand out?"
   ]
  },
  {
   "cell_type": "code",
   "execution_count": null,
   "id": "aa460a5d",
   "metadata": {},
   "outputs": [],
   "source": []
  }
 ],
 "metadata": {
  "kernelspec": {
   "display_name": "Python 3 (ipykernel)",
   "language": "python",
   "name": "python3"
  },
  "language_info": {
   "codemirror_mode": {
    "name": "ipython",
    "version": 3
   },
   "file_extension": ".py",
   "mimetype": "text/x-python",
   "name": "python",
   "nbconvert_exporter": "python",
   "pygments_lexer": "ipython3",
   "version": "3.7.9"
  }
 },
 "nbformat": 4,
 "nbformat_minor": 5
}
